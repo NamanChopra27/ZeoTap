{
  "nbformat": 4,
  "nbformat_minor": 0,
  "metadata": {
    "colab": {
      "provenance": []
    },
    "kernelspec": {
      "name": "python3",
      "display_name": "Python 3"
    },
    "language_info": {
      "name": "python"
    }
  },
  "cells": [
    {
      "cell_type": "code",
      "execution_count": 3,
      "metadata": {
        "id": "IVtshZ2OqvUq",
        "collapsed": true
      },
      "outputs": [],
      "source": [
        "import pandas as pd\n",
        "from sklearn.metrics.pairwise import cosine_similarity\n",
        "from sklearn.preprocessing import StandardScaler\n",
        "\n",
        "# Load datasets\n",
        "customers = pd.read_csv(\"Customers.csv\")\n",
        "products = pd.read_csv(\"Products.csv\")\n",
        "transactions = pd.read_csv(\"Transactions.csv\")\n"
      ]
    },
    {
      "cell_type": "code",
      "source": [
        "# Convert dates to datetime for better processing\n",
        "customers['SignupDate'] = pd.to_datetime(customers['SignupDate'])\n",
        "transactions['TransactionDate'] = pd.to_datetime(transactions['TransactionDate'])"
      ],
      "metadata": {
        "id": "bepVLhDQrNeG"
      },
      "execution_count": 4,
      "outputs": []
    },
    {
      "cell_type": "code",
      "source": [
        "# Merge datasets for comprehensive analysis\n",
        "merged = pd.merge(transactions, customers, on=\"CustomerID\", how=\"left\")\n",
        "merged = pd.merge(merged, products, on=\"ProductID\", how=\"left\")"
      ],
      "metadata": {
        "id": "4fHtyyn6rRBg"
      },
      "execution_count": 5,
      "outputs": []
    },
    {
      "cell_type": "code",
      "source": [
        "merged.rename(columns={'Price_y': 'Price'}, inplace=True)\n"
      ],
      "metadata": {
        "id": "ZakT6aG5rxA4"
      },
      "execution_count": 6,
      "outputs": []
    },
    {
      "cell_type": "code",
      "source": [
        "merged.drop(columns=['Price_x'], inplace=True)\n"
      ],
      "metadata": {
        "id": "UpMUFxxtsKsl"
      },
      "execution_count": 7,
      "outputs": []
    },
    {
      "cell_type": "code",
      "source": [
        "customer_features = merged.groupby('CustomerID').agg({\n",
        "    'TotalValue': 'sum',  # Total spending\n",
        "    'TransactionID': 'count',  # Total transactions\n",
        "    'Price': 'mean',  # Average price per product\n",
        "    'Region': lambda x: x.mode()[0] if len(x) > 0 else None,  # Region\n",
        "    'Category': lambda x: x.mode()[0] if len(x) > 0 else None  # Most purchased category\n",
        "}).reset_index()"
      ],
      "metadata": {
        "id": "epbZltCgsP92"
      },
      "execution_count": 8,
      "outputs": []
    },
    {
      "cell_type": "code",
      "source": [
        "# One-hot encode categorical features like 'Region' and 'Category'\n",
        "customer_features = pd.get_dummies(customer_features, columns=['Region', 'Category'], prefix=['Region', 'Category'])"
      ],
      "metadata": {
        "id": "yIm8o_cusRw1"
      },
      "execution_count": 9,
      "outputs": []
    },
    {
      "cell_type": "code",
      "source": [
        "# Normalize numerical features for similarity calculation\n",
        "scaler = StandardScaler()\n",
        "feature_columns = [col for col in customer_features.columns if col not in ['CustomerID']]\n",
        "normalized_features = scaler.fit_transform(customer_features[feature_columns])\n",
        "customer_features_scaled = pd.DataFrame(normalized_features, columns=feature_columns)\n",
        "customer_features_scaled['CustomerID'] = customer_features['CustomerID']"
      ],
      "metadata": {
        "id": "JjErGj1ssYVv"
      },
      "execution_count": 10,
      "outputs": []
    },
    {
      "cell_type": "code",
      "source": [
        "# Compute Cosine Similarity for customers\n",
        "similarity_matrix = cosine_similarity(customer_features_scaled[feature_columns])\n",
        "similarity_df = pd.DataFrame(similarity_matrix, index=customer_features['CustomerID'], columns=customer_features['CustomerID'])\n",
        "\n",
        "# Get Top 3 Lookalikes for C0001-C0020\n",
        "lookalikes = {}\n",
        "for customer_id in customers['CustomerID'][:20]:\n",
        "    similar_customers = similarity_df[customer_id].sort_values(ascending=False)[1:4]  # Skip self-similarity\n",
        "    lookalikes[customer_id] = list(zip(similar_customers.index, similar_customers.values))\n"
      ],
      "metadata": {
        "id": "VyhvDCPhscDk"
      },
      "execution_count": 11,
      "outputs": []
    },
    {
      "cell_type": "code",
      "source": [
        "\n",
        "# Save Lookalikes to CSV\n",
        "lookalikes_df = pd.DataFrame([\n",
        "    {\"cust_id\": cust_id, \"lookalikes\": str(similars)} for cust_id, similars in lookalikes.items()\n",
        "])\n",
        "lookalikes_df.to_csv(\"Naman_Chopra_Lookalike.csv\", index=False)\n",
        "\n",
        "# Output results\n",
        "print(\"Top 3 Lookalikes for C0001-C0020 saved in Lookalike.csv\")"
      ],
      "metadata": {
        "colab": {
          "base_uri": "https://localhost:8080/"
        },
        "id": "yItMw270sf8-",
        "outputId": "9ce6c678-d969-4be5-83fe-ba48addad867"
      },
      "execution_count": 12,
      "outputs": [
        {
          "output_type": "stream",
          "name": "stdout",
          "text": [
            "Top 3 Lookalikes for C0001-C0020 saved in Lookalike.csv\n"
          ]
        }
      ]
    }
  ]
}